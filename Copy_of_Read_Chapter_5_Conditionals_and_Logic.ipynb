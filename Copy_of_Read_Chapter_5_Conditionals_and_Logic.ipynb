{
  "nbformat": 4,
  "nbformat_minor": 0,
  "metadata": {
    "colab": {
      "name": "Copy of Read Chapter 5 Conditionals and Logic.ipynb",
      "private_outputs": true,
      "provenance": [],
      "collapsed_sections": [],
      "include_colab_link": true
    },
    "kernelspec": {
      "name": "python3",
      "display_name": "Python 3"
    }
  },
  "cells": [
    {
      "cell_type": "markdown",
      "metadata": {
        "id": "view-in-github",
        "colab_type": "text"
      },
      "source": [
        "<a href=\"https://colab.research.google.com/github/AbduvorisAnvarov/IT-212/blob/main/Copy_of_Read_Chapter_5_Conditionals_and_Logic.ipynb\" target=\"_parent\"><img src=\"https://colab.research.google.com/assets/colab-badge.svg\" alt=\"Open In Colab\"/></a>"
      ]
    },
    {
      "cell_type": "markdown",
      "metadata": {
        "id": "ixe7yw4GepMQ"
      },
      "source": [
        "Read Chapter 5 of *Think Java, 2nd Edition*, answer questions 1-20 and complete both of the labs in a copy of this notebook. These labs are modeled off of labs at the end of the chapter with some slight changes and additional setup and structure provided for you.\n",
        "\n",
        "Chapter 5: https://learning.oreilly.com/library/view/think-java-2nd/9781492072492/ch05.html\n",
        "\n",
        "\n",
        "\n",
        "Reminder: to edit a text block or a code block you can double click on it, or hover over it and press the pencil in the upper right hand corner.\n",
        "\n",
        "Note: to complete the two labs you will need to work with codeblocks in your copy of the notebook.\n",
        "\n",
        "Please save frequently! I don't want you to lose your work. Go to File > Save. The first time you do this it will tell you it is making a copy. Say yes that you want to save the changes to your copy.\n",
        "When you're done, save your notebook (File > Save) and then save a copy of your notebook to GitHub (File > Save to GitHub).  Don't save to GitHub until you're done.\n",
        "Send me the link to your file in GitHub to complete this assignment.\n",
        "\n",
        "*If you get stuck, ask on Slack!*"
      ]
    },
    {
      "cell_type": "markdown",
      "metadata": {
        "id": "XAmEZRZ4tsaC"
      },
      "source": [
        "#Questions\n",
        "\n",
        "1. List Java's six relational operators.\n",
        "\n",
        "A: x == y // x is equal to y x != y // x is not equal to y x > y // x is greater than y x < y // x is less than y x >= y // x is greater than or equal to y x <= y // x is less than or equal to y\n",
        "\n",
        "2. What will the result of a relational operator always be?\n",
        "\n",
        "A:true or false\n",
        "\n",
        "3. What is the difference between = and ==? What is the purpose of each one?\n",
        "\n",
        "A:The difference is that 1 = indicates the assingnment operator and 2 == refers to relational operator. = commits to the value and == comapres to the value whether it's the same or not.\n",
        "\n",
        "4. Can you compare numbers of two different datatypes?\n",
        "\n",
        "A: No, you cannot compare two different datatype numbers\n",
        "\n",
        "5. What does a conditional statement do?\n",
        "\n",
        "A: Conditional statement allows to us check the condition in order for us to make the correct commits. \n",
        "\n",
        "6. What is a boolean expression?\n",
        "\n",
        "A: Boolean expression is an expression that doesn't have true or false outputs \n",
        "\n",
        "7. In an if and else statement, what are the possibilities called?\n",
        "\n",
        "A: They are called branches\n",
        "\n",
        "8. What is chaining? Why would you use it?\n",
        "\n",
        "A:Chaining is analyzing multiple conditions by using if/if else statements\n",
        "\n",
        "9. What is nesting? When would you use it?\n",
        "\n",
        "A: nesting is an option to use If statement within an if statement and it is used to find result of a statement if it goes through more than 1 If condition \n",
        "\n",
        "10. When would it be better use a switch statement instead of an if statement?\n",
        "\n",
        "A:when we have several conditions to verify the outputs are the same\n",
        "\n",
        "11. When is the default block executed in a case statement?\n",
        "\n",
        "A: Only time a default block is executed is when no cases are working properly. \n",
        "\n",
        "12. When does the book considder switch statements to be particularly useful?\n",
        "\n",
        "A:switch statemnet are useful if multiple cases are grouped\n",
        "\n",
        "13. What are Java's three logical operators and what do they do?\n",
        "\n",
        "A:&& is the AND operator, when both statements are ture, the expression will be true and if they are false then the expression will be false. || is OR operator, and if one of conditons are ture then, the expression will be ture and vice versa if it one of the values are false. ! means that the value is not equal to.\n",
        "\n",
        "14. What is a short circut evaluation?\n",
        "\n",
        "A: Short circuit is when the second operand goes unnoticed and ignored most of the time when using ||.\n",
        "\n",
        "15. What are De Morgan’s laws?\n",
        "\n",
        "A:!(A && B) is the same as !A || !B\n",
        "\n",
        "!(A || B) is the same as !A && !B\n",
        "\n",
        "16. What happens to relational operators when you apply De Morgan's laws to them?\n",
        "\n",
        "A: it cancels out the operator\n",
        "\n",
        "17. What is a \"Flag\"?\n",
        "\n",
        "A: Flag is the variable that uses parentheses to make coding easier to read.\n",
        "\n",
        "18. How can we check if a flag is false?\n",
        "\n",
        "A: we can do so by simplifying the complex code\n",
        "\n",
        "19. What is \"validating input\" and why would you need to do it/\n",
        "\n",
        "A: validation input is used to check the input from the users matching the caiteria\n",
        "\n",
        "20. What does the code block right before the vocabulary section do? (overall)\n",
        "\n",
        "A: it checks if the users input is double variable and checks if the input is higher that 0\n"
      ]
    },
    {
      "cell_type": "markdown",
      "metadata": {
        "id": "eqajPr84tvnn"
      },
      "source": [
        "#Excercises\n",
        "\n",
        "Please complete both of the following excercises!"
      ]
    },
    {
      "cell_type": "markdown",
      "metadata": {
        "id": "7Tv2R7m655S4"
      },
      "source": [
        "###Rewrite the following code by using a single if statement:"
      ]
    },
    {
      "cell_type": "code",
      "metadata": {
        "id": "f7lMv0lR52Y0"
      },
      "source": [
        "%%writefile ReWrite.java\n",
        "public class ReWrite {\n",
        "    public static void main(String [] args){\n",
        "        int x = 6;\n",
        "        if (x > 0) {\n",
        "            if (x < 10) {\n",
        "                System.out.println(\"positive single digit number.\");\n",
        "            }\n",
        "        }\n",
        "    }\n",
        "}"
      ],
      "execution_count": null,
      "outputs": []
    },
    {
      "cell_type": "code",
      "metadata": {
        "id": "_47OrX296ltH"
      },
      "source": [
        "!javac ReWrite.java\n",
        "!java ReWrite"
      ],
      "execution_count": null,
      "outputs": []
    },
    {
      "cell_type": "markdown",
      "metadata": {
        "id": "O8GPXVNt8orJ"
      },
      "source": [
        "### Triangle Problem (Slightly Modified From the Book's Version)\n",
        "\n",
        "If you are given three sticks, you may or may not be able to arrange them in a triangle. For example, if one of the sticks is 12 inches long and the other two are 1 inch long, you will not be able to get the short sticks to meet in the middle. For any three lengths, there is a simple test to see if it is possible to form a triangle:\n",
        "\n",
        "***If any of the three lengths is greater than the sum of the other two, you cannot form a triangle.***\n",
        "\n",
        "* Write a program named Triangle.java that inputs three integers, and then outputs whether you can (or cannot) form a triangle from the given lengths.\n",
        "\n",
        "* Validate the inputs, such that if a user enters a character instead of a number the program tells the user that the character is invalid.\n",
        "\n",
        "* Also, display an error if any of the lengths are negative or zero."
      ]
    },
    {
      "cell_type": "code",
      "metadata": {
        "id": "l32y3MB09fXY"
      },
      "source": [
        "%%writefile Triangle.java\n",
        "import java.util.Scanner;\n",
        "\n",
        "public class Triangle{\n",
        "    public static void main(String [] args) {\n",
        "        Scanner getInput = new Scanner(System.in);\n",
        "\n",
        "        double firstLength = 0.0;\n",
        "        double secondLength = 0.0;\n",
        "        double thirdLength = 0.0;\n",
        "\n",
        "       if (getInput.hasNextDouble()) // Write code to validate the input: if a user doesn't enter a number, tell the user their input is invalid.\n",
        "        { firstLength = getInput.nextDouble();\n",
        "          System.out.println(\"blank is an invalid input\");} // Write code to display an error if any lengths are negative or zero\n",
        "\n",
        "       if (secondLength == 0 || secondLength < 0) // Write code to validate the input: if a user doesn't enter a number, tell the user their input is invalid.\n",
        "        {   secondLength = getInput.nextDouble();\n",
        "            System.out.println(\"Input cannot be zero\");}// Write code to display an error if any lengths are negative or zero\n",
        "\n",
        "        if (getInput.hasNextDouble()) // Write code to validate the input: if a user doesn't enter a number, tell the user their input is invalid.\n",
        "        {   thirdLength = getInput.nextDouble();\n",
        "            System.out.println(thirdLength + \"is not a number\");}// Write code to display an error if any lengths are negative or zero\n",
        "\n",
        "\n",
        "        if ((firstLength+secondLength) < thirdLength )\n",
        "        // Write an if and else statement that compares the lengths and tells the user whethey can form a triangle\n",
        "        // Remember that if any of the lengths is greater than the sum of the other two, it cannot form a triangle.r or not the\n",
        "        {System.out.println(\"Input cannot be triangle\");}\n",
        "\n",
        "        else if ((firstLength+thirdLength) < secondLength)\n",
        "        {System.out.println(\"Input cannot be triangle\");}\n",
        "\n",
        "        else if ((secondLength+thirdLength) < firstLength)\n",
        "        {System.out.println(\"Input cannot be triangle\");}\n",
        "\n",
        "        else\n",
        "        {System.out.println(\"Input can be triangle\");}\n",
        "\n",
        "        // The print statement below is just here as something to ouptut.  You don't need it for your program\n",
        "        System.out.println(firstLength + \" \" + secondLength + \" \" + thirdLength);\n",
        "\n",
        "\n",
        "    }\n",
        "}"
      ],
      "execution_count": null,
      "outputs": []
    },
    {
      "cell_type": "markdown",
      "metadata": {
        "id": "YyAcdylv_sxQ"
      },
      "source": [
        "Remember to run the code below to compile and run your Triangle.java class.  To make sure your validation works, you can alter the `echo` line which provides input to the program.  \n",
        "\n",
        "Try changing one of the numbers to a word, like: `!echo -e \"word\\n50\\n44\" > test` and one of the posative numbers to a negative number or zero, like: `!echo -e \"-1\\n50\\n44\" > test`, to make sure your error handling is working correctly."
      ]
    },
    {
      "cell_type": "code",
      "metadata": {
        "id": "xdHNDH34AZuo"
      },
      "source": [
        "!javac Triangle.java\n",
        "!echo -e \"30\\n25\\n10\" > test\n",
        "!java Triangle < test"
      ],
      "execution_count": null,
      "outputs": []
    },
    {
      "cell_type": "markdown",
      "metadata": {
        "id": "6hJv7hCSe0tX"
      },
      "source": [
        "#Reminder\n",
        "\n",
        "* When you're done, save your notebook (File > Save) and then save a copy of your notebook to your IT-211 GitHub (File > Save to GitHub).\n",
        "* Send me the link to your file in GitHub to complete this assignment.\n",
        "* If you get stuck, ask on Slack!"
      ]
    }
  ]
}