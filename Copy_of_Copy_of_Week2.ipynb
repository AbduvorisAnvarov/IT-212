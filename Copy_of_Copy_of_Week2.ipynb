{
  "nbformat": 4,
  "nbformat_minor": 0,
  "metadata": {
    "colab": {
      "name": "Copy of Copy of Week2.ipynb",
      "private_outputs": true,
      "provenance": [],
      "collapsed_sections": [],
      "include_colab_link": true
    },
    "kernelspec": {
      "name": "python3",
      "display_name": "Python 3"
    }
  },
  "cells": [
    {
      "cell_type": "markdown",
      "metadata": {
        "id": "view-in-github",
        "colab_type": "text"
      },
      "source": [
        "<a href=\"https://colab.research.google.com/github/AbduvorisAnvarov/IT-212/blob/main/Copy_of_Copy_of_Week2.ipynb\" target=\"_parent\"><img src=\"https://colab.research.google.com/assets/colab-badge.svg\" alt=\"Open In Colab\"/></a>"
      ]
    },
    {
      "cell_type": "code",
      "metadata": {
        "id": "QjOsPjuJRgVd"
      },
      "source": [
        "%%writefile Input.java\r\n",
        "import java.util.Scanner;\r\n",
        "\r\n",
        "// Goal: Calculator\r\n",
        "// Add Operators: +, -, *, /, exponents (taking the first number ot the power of the 2nd number)\r\n",
        "// Expectations: input numbers and operators and have them return an answer. \r\n",
        "// we'll be using if statments and eventually switch to solve the interface problem\r\n",
        "\r\n",
        "public class Input {                          \r\n",
        "    public static void main(String [] args) {  \r\n",
        "        Scanner randomScanner = new Scanner(System.in);       // Create a Scanner object\r\n",
        "\r\n",
        "        System.out.println(\"Enter your first number:\");       // Scans for first number and stores it as firstNumber.\r\n",
        "        double firstNumber = randomScanner.nextDouble();\r\n",
        "\r\n",
        "        System.out.println(\"Enter operator(+,-,*,/,):\");\r\n",
        "        String operator = randomScanner.next();\r\n",
        "\r\n",
        "        System.out.println(\"Enter your second number:\");      // Scans for second number and stores it as secondNumber.\r\n",
        "        double secondNumber = randomScanner.nextDouble();\r\n",
        "        randomScanner.close();\r\n",
        "\r\n",
        "       \r\n",
        "\r\n",
        "        //double myAnswer  = firstNumber + secondNumber;        // Adds those numbers together and stores the answer as myAnswer.\r\n",
        "        //double myAnswer2 = firstNumber - secondNumber;        // Subract secondNumber from firstNumber \r\n",
        "        //double myAnswer3 = firstNumber * secondNumber;        // Multiplies firstNumber by secondNumber\r\n",
        "        //double myAnswer4 = firstNumber / secondNumber;        // Divides firstNumber by secondNumber\r\n",
        "       //double myAnswer5 = Math.pow(firstNumber, secondNumber);  \r\n",
        "       \r\n",
        "        //System.out.println(\"My first number is \" + firstNumber + \".\\nMy second number is \" + secondNumber + \".\\nAddition: \" + \r\n",
        "                           //myAnswer + \".\\nSubtraction: \" + myAnswer2 + \".\\nMultiplication: \" + myAnswer3 + \".\\nDivision: \" + \r\n",
        "                           //myAnswer4 + \".\\nExponent: \" + myAnswer5 + \".\");"
      ],
      "execution_count": null,
      "outputs": []
    },
    {
      "cell_type": "code",
      "metadata": {
        "id": "oWH965PZFJLQ"
      },
      "source": [
        "!javac Input.java\r\n",
        "!echo -e \"5.0\\30.0\" > test\r\n",
        "!java Input < test"
      ],
      "execution_count": null,
      "outputs": []
    },
    {
      "cell_type": "code",
      "metadata": {
        "id": "C1iwTduXEVFm"
      },
      "source": [
        "%%writefile MyNotes.java\n",
        "public class MyNotes {\n",
        "    public static void main (String[] args) {\n",
        "        System.out.println (\"My notes have working code in them!!!\");\n",
        "    }\n",
        "}"
      ],
      "execution_count": null,
      "outputs": []
    },
    {
      "cell_type": "code",
      "metadata": {
        "id": "jRzZxWlTEgN7"
      },
      "source": [
        "%%writefile Declaration.java\n",
        "public class Declaration {\n",
        "    public static void main (String [] args) {\n",
        "        // Whole numbers.  The only difference between them is how many numbers they can store\n",
        "        int   intVar   = 1000000000;            // Stores whole numbers from -2,147,483,648 to 2,147,483,647 (Takes up 4 bytes)\n",
        "        byte  byteVar  = 100;                   // Stores whole numbers from -128 to 127 (Takes up 1 byte)\n",
        "        short shortVar = 1000;                  // Stores whole numbers from -32,768 to 32,767 (Takes up 2 bytes)\n",
        "        long  longVar  =  1000000000000000000L; // Stores whole numbers from -9,223,372,036,854,775,808 to 9,223,372,036,854,775,807 (Takes up 8 bytes)\n",
        "        // Note: if you want to get decimals back when you divide two numbers, you must start with a decimal data type.\n",
        "        // Int's divided by ints will produce int's that round down.\n",
        "        // Stores decimals  \n",
        "        float floatVar   = 3.141592f;            //Stores fractional numbers. Sufficient for storing 6 to 7 decimal digits (Takes up 4 bytes)\n",
        "        double doubleVar = 3.141592653589793d;   // Stores fractional numbers. Sufficient for storing 15 decimal digits (Takes up 8 bytes)\n",
        "        // Single value\n",
        "        boolean booleanVar = true;              // Boolean is used for true or false.  (Takes up 1 byte)\n",
        "        char charVar       = 'J';               // Stores a single character/letter or ASCII values (Takes up 2 bytes)  Note the single quotes!\n",
        "        System.out.println(\"There are 8 primitive data types\\nint, byte, short, long, fload, double, boolean, & char\");\n",
        "        System.out.println(\"intVar = \" + intVar );\n",
        "        System.out.println(\"byteVar = \" + byteVar);\n",
        "        System.out.println(\"shortVar = \" + shortVar);\n",
        "        System.out.println(\"longVar = \" + longVar);\n",
        "        System.out.println(\"float = \" + floatVar);\n",
        "        System.out.println(\"double = \" + doubleVar);\n",
        "        System.out.println(\"boolean = \" + booleanVar);\n",
        "        System.out.println(\"char = \" + charVar);\n",
        "    }\n",
        "}"
      ],
      "execution_count": null,
      "outputs": []
    },
    {
      "cell_type": "code",
      "metadata": {
        "id": "-FQ8M7YBc5_k"
      },
      "source": [
        "!javac Declaration.java\r\n",
        "!java Declaration"
      ],
      "execution_count": null,
      "outputs": []
    }
  ]
}