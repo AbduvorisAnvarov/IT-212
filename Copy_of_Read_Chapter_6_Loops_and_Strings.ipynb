{
  "nbformat": 4,
  "nbformat_minor": 0,
  "metadata": {
    "colab": {
      "name": "Copy of Read Chapter 6 - Loops and Strings.ipynb",
      "private_outputs": true,
      "provenance": [],
      "collapsed_sections": [],
      "include_colab_link": true
    },
    "kernelspec": {
      "name": "python3",
      "display_name": "Python 3"
    }
  },
  "cells": [
    {
      "cell_type": "markdown",
      "metadata": {
        "id": "view-in-github",
        "colab_type": "text"
      },
      "source": [
        "<a href=\"https://colab.research.google.com/github/AbduvorisAnvarov/IT-212/blob/main/Copy_of_Read_Chapter_6_Loops_and_Strings.ipynb\" target=\"_parent\"><img src=\"https://colab.research.google.com/assets/colab-badge.svg\" alt=\"Open In Colab\"/></a>"
      ]
    },
    {
      "cell_type": "markdown",
      "metadata": {
        "id": "zHJ1sbcDkOxs"
      },
      "source": [
        "Read Chapter 6 of *Think Java, 2nd Edition*, answer questions 1-20 and complete both of the labs in a copy of this notebook. These labs are modeled off of labs at the end of the chapter with some slight changes and additional setup and structure provided for you.\n",
        "\n",
        "Chapter 6: https://learning.oreilly.com/library/view/think-java-2nd/9781492072492/ch06.html\n",
        "\n",
        "\n",
        "Reminder: to edit a text block or a code block you can double click on it, or hover over it and press the pencil in the upper right hand corner.\n",
        "\n",
        "Note: to complete the two labs you will need to work with codeblocks in your copy of the notebook.\n",
        "\n",
        "Please save frequently! I don't want you to lose your work. Go to File > Save. The first time you do this it will tell you it is making a copy. Say yes that you want to save the changes to your copy.\n",
        "When you're done, save your notebook (File > Save) and then save a copy of your notebook to GitHub (File > Save to GitHub).  Don't save to GitHub until you're done.\n",
        "Send me the link to your file in GitHub to complete this assignment.\n",
        "\n",
        "*If you get stuck, ask on Slack!*"
      ]
    },
    {
      "cell_type": "markdown",
      "metadata": {
        "id": "jkkZ7ci3k-YC"
      },
      "source": [
        "#Questions\n",
        "\n",
        "***Note: I am now labeling the answer space `A(question number):` for example, the answer space for question 1 would be `A(1):`.***\n",
        "\n",
        "1. Write an example while statement in the code block below.  It does not need to be complex, it can just print a variable.  When you're done, go through your while statement line by line and explain what each line does in the text box provided."
      ]
    },
    {
      "cell_type": "code",
      "metadata": {
        "id": "3WoVv6zfmHIL"
      },
      "source": [
        ""
      ],
      "execution_count": null,
      "outputs": []
    },
    {
      "cell_type": "code",
      "metadata": {
        "id": "08iKm0hV1k-f"
      },
      "source": [
        "%%writefile ExampleWhile.java\n",
        "public class ExampleWhile{\n",
        "    public static void main(String [] args){\n",
        "        int i = 2;\n",
        "while (i <= 8) {\n",
        "    System.out.print(i+\", \");\n",
        "    i += 2;  \n",
        "}\n",
        "\n",
        "    }\n",
        "}"
      ],
      "execution_count": null,
      "outputs": []
    },
    {
      "cell_type": "code",
      "metadata": {
        "id": "Ie0pEuLRmjj3"
      },
      "source": [
        "!javac ExampleWhile.java\n",
        "!java ExampleWhile"
      ],
      "execution_count": null,
      "outputs": []
    },
    {
      "cell_type": "markdown",
      "metadata": {
        "id": "3_eAl8zZnX2w"
      },
      "source": [
        "A(1): "
      ]
    },
    {
      "cell_type": "markdown",
      "metadata": {
        "id": "2yfwTh09oHc2"
      },
      "source": [
        "2. What is the flow of execution for a while statement?\n",
        "\n",
        "A(2):Assess the condition in enclosures, yielding valid or invalid. In the event that the condition is bogus, skirt the accompanying assertions in supports. On the off chance that the condition is valid, execute the assertions and return to stage 1.\n",
        "\n"
      ]
    },
    {
      "cell_type": "markdown",
      "metadata": {
        "id": "_q69gEmRoWbC"
      },
      "source": [
        "3. What is an infinite loop?\n",
        "\n",
        "A(3):The body of the loop that does not change the estimation of at least one factors so that, in the end, the condition doesnt turns out to be invalid and the loop ends. "
      ]
    },
    {
      "cell_type": "markdown",
      "metadata": {
        "id": "GSVFu6zYogOM"
      },
      "source": [
        "4.  What is the “Collatz conjecture”, and why is it so hard to prove?\n",
        "\n",
        "A(4):  it is conjecture that start with any positive integer n. and the next term is one half of the previous term if it was even"
      ]
    },
    {
      "cell_type": "markdown",
      "metadata": {
        "id": "8mPGzGY42kEE"
      },
      "source": [
        "5. Write an example of the increment operator incrementing a variable, and an example of the decrement operator operating a variable.\n",
        "\n",
        "```\n",
        "A(5): Increment i += 3\n",
        "      Decrement i -= 3\n",
        "\n",
        "```"
      ]
    },
    {
      "cell_type": "markdown",
      "metadata": {
        "id": "-PGjNSsLpsE4"
      },
      "source": [
        "6. What are the three things the `while loops` the book has demonstrated so far, have in common?\n",
        "\n",
        "A(6): instating a variable, they have a condition that relies upon that variable, and they accomplish something inside the loop to refresh that variable."
      ]
    },
    {
      "cell_type": "markdown",
      "metadata": {
        "id": "1tlNafqgqEck"
      },
      "source": [
        "7. What is running the same code multiple times called?\n",
        "\n",
        "A(7): it is called Iteration "
      ]
    },
    {
      "cell_type": "markdown",
      "metadata": {
        "id": "H4N1GtwmqSs4"
      },
      "source": [
        "8. What do the initializer, the condition, and the update each do?\n",
        "\n",
        "A(8):\n",
        "The condition is checked each time through the loop. In the event that it is invalid, the loop closes. Something else, the body of the circle is executed. \n",
        "while finishing each iteration, the update runs, and we return to stage 2."
      ]
    },
    {
      "cell_type": "markdown",
      "metadata": {
        "id": "o0a1GGSmqm1T"
      },
      "source": [
        "9. What do you do when you need to use a loop variable outside a loop?\n",
        "\n",
        "A(9): We inatilize the variable external the loop."
      ]
    },
    {
      "cell_type": "markdown",
      "metadata": {
        "id": "d3QIYmCCriBr"
      },
      "source": [
        "10.  What is a nested loop?\n",
        "\n",
        "A(10): A loop within a loop\n"
      ]
    },
    {
      "cell_type": "markdown",
      "metadata": {
        "id": "IhG4RkwQr-_c"
      },
      "source": [
        "11.  In the nested loop example in the book, how many times does the outer loop iterate and how many times does the inner loop iterate?\n",
        "\n",
        "A(11):10 times outter loop and intter loop is 100 times"
      ]
    },
    {
      "cell_type": "markdown",
      "metadata": {
        "id": "q9AwQpYjsXVO"
      },
      "source": [
        "12. What does the format specifier `%4d` do in the example code?\n",
        "\n",
        "A(12): %4d shows the value of x * y padded with spaces."
      ]
    },
    {
      "cell_type": "markdown",
      "metadata": {
        "id": "ZO1UPoGfsoOG"
      },
      "source": [
        "13.  The book says `'Another way to read nested loops, like the ones in this example, is, “For each row x, and for each column y, …”'`, what is it describing?\n",
        "\n",
        "A(13): it is to read nested loops "
      ]
    },
    {
      "cell_type": "markdown",
      "metadata": {
        "id": "qb36pbVYs9jA"
      },
      "source": [
        "14. According to the book, what do some of the most important problems in computer science involve?\n",
        "\n",
        "A(14): searching and manipulating the text is the most important"
      ]
    },
    {
      "cell_type": "markdown",
      "metadata": {
        "id": "L1gNz3cctJ6_"
      },
      "source": [
        "15. If in the code below, what will the value of exampleChar be after the 2nd line?\n",
        "\n",
        "```\n",
        "char exampleChar = 'G';\n",
        "exampleChar++\n",
        "```\n",
        "\n",
        "A(15):"
      ]
    },
    {
      "cell_type": "markdown",
      "metadata": {
        "id": "3fstrmYmt_XQ"
      },
      "source": [
        "16. What is a code point?\n",
        "\n",
        "A(16): Code points are considered as integers \n",
        "\n"
      ]
    },
    {
      "cell_type": "markdown",
      "metadata": {
        "id": "zZmVoDriugWd"
      },
      "source": [
        "17.  Run the code below (from the book) to print the Greek Alphabet.  Notice how the loop starts at 913 and goes until it becomes equal to 937.  Those numbers correspond to the Greek characters in Unicode. \n",
        "\n",
        "* In the provided codeblock with `A(17):` right above it, create an almost identical loop, with two changes: your range and the print statement you use.\n",
        "* Your first change will be to the range.  Your new loop will start with `i` equal to `0x1F600`, which is an int in base 16 (we use base 10 normally when doing math).  It should complete the loop when it becomes greater than or equal to `0x1F64F` (also in base 16).  You don't have to do anything special to make the program read base 16, it does it automatically.  You should only have to change the numbers in this line `for (int i = 913; i <= 937; i++) {`, the rest of the code is fine for this first part.\n",
        "* The second thing you're going to change is the way the unicode is output.  Instead of using `System.out.print((char) i);`, you're going to use `System.out.print(Character.toChars(i));`.\n",
        "* Other than those changes, your code will be exactly the same.\n",
        "* Create the code, save it, run it, and write down what it outputs in the `A(17):` section.\n"
      ]
    },
    {
      "cell_type": "code",
      "metadata": {
        "id": "v2ME97uru2pT"
      },
      "source": [
        "%%writefile FunWithChar.java\n",
        "public class FunWithChar{\n",
        "    public static void main(String [] args){\n",
        "        System.out.print(\"Greek alphabet: \");\n",
        "            for (int i = 913; i <= 937; i++) {\n",
        "            System.out.print((char) i);\n",
        "        }\n",
        "\n",
        "        System.out.println(\"\");\n",
        "\n",
        "    }\n",
        "}"
      ],
      "execution_count": null,
      "outputs": []
    },
    {
      "cell_type": "code",
      "metadata": {
        "id": "Kf24KUNSvNut"
      },
      "source": [
        "!javac FunWithChar.java\n",
        "!java FunWithChar"
      ],
      "execution_count": null,
      "outputs": []
    },
    {
      "cell_type": "markdown",
      "metadata": {
        "id": "u_Y_SITXwe9O"
      },
      "source": [
        "A(17): Mystery Unicode: 😀😁😂😃😄😅😆😇😈😉😊😋😌😍😎😏😐😑😒😓😔😕😖😗😘😙😚😛😜😝😞😟😠😡😢😣😤😥😦😧😨😩😪😫😬😭😮😯😰😱😲😳😴😵😶😷😸😹😺😻😼😽😾😿🙀🙁🙂🙃🙄🙅🙆🙇🙈🙉🙊🙋🙌🙍🙎🙏"
      ]
    },
    {
      "cell_type": "code",
      "metadata": {
        "id": "93MJKtXbv4nK"
      },
      "source": [
        "%%writefile FunWithChar.java\n",
        "public class FunWithChar{\n",
        "    public static void main(String [] args){\n",
        "        System.out.print(\"Mystery Unicode: \");\n",
        "        \n",
        "         for (int i = 0x1F600; i <= 0x1F64F; i++) {\n",
        "            System.out.print(Character.toChars(i));\n",
        "        }\n",
        "\n",
        "    }\n",
        "}"
      ],
      "execution_count": null,
      "outputs": []
    },
    {
      "cell_type": "code",
      "metadata": {
        "id": "rsTIkbmnv8tW"
      },
      "source": [
        "!javac FunWithChar.java\n",
        "!java FunWithChar"
      ],
      "execution_count": null,
      "outputs": []
    },
    {
      "cell_type": "markdown",
      "metadata": {
        "id": "SuXPXtn1wzxj"
      },
      "source": [
        "18. Explain when you should use a for loop and when should you use a while loop, since they both have the same capacities?\n",
        "\n",
        "A(18): Use a for loop to iterate over an array and when loop should execute n times.\n",
        "Use a while loop for reading a file into a variable and when asking for user input."
      ]
    },
    {
      "cell_type": "markdown",
      "metadata": {
        "id": "14yFP2gnx4k4"
      },
      "source": [
        "19.  How do you tell the `.indexOf()` method to start searching from a particular position?\n",
        "\n",
        "A(19): add 'n' inside the paranthesis "
      ]
    },
    {
      "cell_type": "markdown",
      "metadata": {
        "id": "-VRiRA7SyCey"
      },
      "source": [
        "20.  How would you search for a word within a string using `.indexOf()`?\n",
        "\n",
        "\n",
        "A(20): add 'word you wanna search'"
      ]
    },
    {
      "cell_type": "markdown",
      "metadata": {
        "id": "7rTJlteNyYHo"
      },
      "source": [
        "21. What method to you use to compare two strings?\n",
        "\n",
        "A(21.) you use compareTo for it"
      ]
    },
    {
      "cell_type": "markdown",
      "metadata": {
        "id": "30vretkyy3aX"
      },
      "source": [
        "#Excercise 6-4\n",
        "Please complete the exercise below!  Feel free to do any of the other exercises in the chapter and include them here as well.  I'm happy to help you troubleshoot any additional work."
      ]
    },
    {
      "cell_type": "markdown",
      "metadata": {
        "id": "_RrG4A2MziEo"
      },
      "source": [
        "#\"abecedarian\" (modified)\n",
        "A word is said to be abecedarian if the letters in the word appear in alphabetical order. For example, the following are all six-letter English abecedarian words:\n",
        "\n",
        "abdest, acknow, acorsy, adempt, adipsy, agnosy, befist, behint, beknow, bijoux, biopsy, cestuy, chintz, deflux, dehors, dehort, deinos, diluvy, dimpsy\n",
        "\n",
        "Write a class called IsAbecedarian that requests a string from the user and prints a boolean indicating whether the word is abecedarian.\n",
        "\n",
        "Note: please change the input up a couple of times to test your class."
      ]
    },
    {
      "cell_type": "code",
      "metadata": {
        "id": "AUO6j6efz7mv"
      },
      "source": [
        "%%writefile IsAbecedarian.java\n",
        "import java.util.Scanner;\n",
        "\n",
        "\n",
        "public class IsAbecedarian{\n",
        "    \n",
        "      public static void main(String [] args) {\n",
        "        Scanner in = new Scanner(System.in);\n",
        "        String myString = in.nextLine();\n",
        "        char letter = myString.charAt(0);\n",
        "        char increment;\n",
        "        int i = 0;\n",
        "        int length = myString.length();\n",
        "        while(i<length){\n",
        "           increment = myString.charAt(i);\n",
        "            if(increment<letter){\n",
        "                 System.out.println(\"False, \" + myString +\" is not an abecedarian\");\n",
        "                 break;\n",
        "            }else{\n",
        "               i++;\n",
        "                if(i >= length){\n",
        "                    System.out.println(\"True, \" + myString + \" is an abecedarian\");\n",
        "                }\n",
        "            }\n",
        "        }\n",
        "    }\n",
        "}\n",
        "\n"
      ],
      "execution_count": null,
      "outputs": []
    },
    {
      "cell_type": "code",
      "metadata": {
        "id": "BRarxDv603N-"
      },
      "source": [
        "!javac IsAbecedarian.java\n",
        "!echo -e \"abracadabra\" > test\n",
        "!java IsAbecedarian < test"
      ],
      "execution_count": null,
      "outputs": []
    },
    {
      "cell_type": "markdown",
      "metadata": {
        "id": "i6ARPUIgki7g"
      },
      "source": [
        "#Reminder\n",
        "\n",
        "* When you're done, save your notebook (File > Save) and then save a copy of your notebook to your IT-211 GitHub (File > Save to GitHub).\n",
        "* Send me the link to your file in GitHub to complete this assignment.\n",
        "* If you get stuck, ask on Slack!"
      ]
    }
  ]
}