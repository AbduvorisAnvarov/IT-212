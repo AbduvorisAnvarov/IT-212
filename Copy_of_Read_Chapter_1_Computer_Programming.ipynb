{
  "nbformat": 4,
  "nbformat_minor": 0,
  "metadata": {
    "colab": {
      "name": "Copy of Read Chapter 1.  Computer Programming.ipynb",
      "private_outputs": true,
      "provenance": [],
      "collapsed_sections": [],
      "include_colab_link": true
    },
    "kernelspec": {
      "name": "python3",
      "display_name": "Python 3"
    }
  },
  "cells": [
    {
      "cell_type": "markdown",
      "metadata": {
        "id": "view-in-github",
        "colab_type": "text"
      },
      "source": [
        "<a href=\"https://colab.research.google.com/github/AbduvorisAnvarov/IT-212/blob/main/Copy_of_Read_Chapter_1_Computer_Programming.ipynb\" target=\"_parent\"><img src=\"https://colab.research.google.com/assets/colab-badge.svg\" alt=\"Open In Colab\"/></a>"
      ]
    },
    {
      "cell_type": "markdown",
      "metadata": {
        "id": "eUIEZxGGVHFF"
      },
      "source": [
        "Read Chapter 1 of *Think Java*, 2nd Editon and answer questions 1-21 in a copy of this noebook.\n",
        "\n",
        "Chapter 1: https://learning.oreilly.com/library/view/think-java-2nd/9781492072492/ch01.html\n",
        "\n",
        "<br>\n",
        "\n",
        "*Don't worry if the concepts in this chapter don't make sense yet, they will become familiar by the end of class, I promise!*\n",
        "\n",
        "   * *Reminder: to edit a text block or a code block you can double click on it, or hover over it and press the pencil in the upper right hand corner.*\n",
        "\n",
        "<br>\n",
        "\n",
        "Note: to complete question 21 which is a programming/debugging lab you will create code in your copy of this notebook.  \n",
        "\n",
        "   * Please save frequently!  I don't want you to lose your work.  Go to File > Save.  The first time you do this it will tell you it is making a copy.  Say yes that you want to save the changes to your copy.\n",
        "   * When you're done, save your notebook (File > Save) and then save a copy of your notebook to GitHub (File > Save to GitHub).  \n",
        "   * Send me the link to your file in GitHub to complete this assignment.\n",
        "   * If you get stuck, ask on Slack!"
      ]
    },
    {
      "cell_type": "markdown",
      "metadata": {
        "id": "rMDSBD4jUuBD"
      },
      "source": [
        ""
      ]
    },
    {
      "cell_type": "markdown",
      "metadata": {
        "id": "FPqpzRIL-jzp"
      },
      "source": [
        "#Questions\n",
        "\n",
        "1. What are the two most important pieces of hardware in every computer?\n",
        "\n",
        "A:processors and memory\n",
        "2. What are the five basic instruction that appear in almost every programming language?\n",
        "\n",
        "A:Input, Output, Math, Secision, and Repetition\n",
        "3. What do each of the five basic examples do? (okay to copy from the book here)\n",
        "\n",
        "A: Input\n",
        "Get data from the keyboard, a file, a sensor, or some other device.\n",
        "\n",
        "Output\n",
        "Display data on the screen, or send data to a file or other device.\n",
        "\n",
        "Math\n",
        "Perform basic mathematical operations like addition and division.\n",
        "\n",
        "Secision\n",
        "Check for certain conditions and execute the appropriate code.\n",
        "\n",
        "Repetition\n",
        "Perform an action repeatedly, usually with some variation.\n",
        "4. What is the statement in the Hello World example?\n",
        "\n",
        "A:System.out.println(\"Hello, World!\");\n",
        "5. What is the method in the Hello World example?\n",
        "\n",
        "A: public static void main(String[] args)\n",
        "6. Why is the method ‘main’ special?\n",
        "\n",
        "A:because when the program runs, it starts at the first statement in main and ends when it finishes the last statement\n",
        "7. What is a class (how does the book define it for now?)\n",
        "\n",
        "A:it is a collection of methods\n",
        "8. If my Java class is named Nicole, what must the name of my Java file be?\n",
        "\n",
        "A:Nicole.java.\n",
        "9. What is an interpreter?\n",
        "\n",
        "A: An interpreter is a high-level program reader and executer\n",
        "10. What is a compiler?\n",
        "\n",
        "A:a compiler reads the entire program and translates it completely before the program starts running\n",
        "11. What is byte code?\n",
        "\n",
        "A: it is an imaginary machine has the functionality common to desktops, laptops, tablets, phones and other devices\n",
        "12. What is the Java compiler called?\n",
        "\n",
        "A:  javac.\n",
        "13. What is the Java Interpreter called?\n",
        "\n",
        "A: java,\n",
        "14. How do you comment in Java?\n",
        "\n",
        "A: by Adding and changing print statements\n",
        "15. What is the difference in output between System.out.println() and System.out.print()? (in other words, if you used both to print the same thing, what would the difference be?)\n",
        "\n",
        "A:  System.out.println appends a special character, called a newline, that moves to the beginning of the next line while System.out.print displays it as is\n",
        "16. Why is whitespace important?\n",
        "\n",
        "A:  it makes it easier for the reader to read the cod\n",
        "17. List two escape sequences and explain in a sentence (per escape sequence) what each one does.\n",
        "\n",
        "A: \\n\tNewline and \\t\tTab\n",
        "18. What is an algorithm?\n",
        "\n",
        "A:  An algorithm is a sequence of steps that specifies how to solve a problem\n",
        "19. What is a bug?\n",
        "\n",
        "A:  programming errors\n",
        "20. Note, in the vocabulary section of this chapter “processo” should be “processor”"
      ]
    },
    {
      "cell_type": "markdown",
      "metadata": {
        "id": "RWiO6V17U0J-"
      },
      "source": [
        "#Programming Lab: Debugging\n",
        "\n",
        "21. Pick 4 of the program errors at the end of the chapter to test in your Jupyter Notebook.  An example of replacing  **println** with **Println** is below. \n"
      ]
    },
    {
      "cell_type": "code",
      "metadata": {
        "id": "vgDaYnaDXjbo"
      },
      "source": [
        "%%writefile Hello.java\n",
        "// This code tests what happens when I replace println with Println on line 9\n",
        "// Not sure which line 8 is?  Highlight this codeblock and press <control> m then l.  You should see line numbers down the side of the cell.\n",
        "\n",
        "public class Hello {\n",
        "\n",
        "    public static void main(String[] args) {\n",
        "        // generate some simple output\n",
        "        System.out.Println(\"Hello, World!\");\n",
        "    }\n",
        "}"
      ],
      "execution_count": null,
      "outputs": []
    },
    {
      "cell_type": "code",
      "metadata": {
        "id": "77k-oNolaLIe"
      },
      "source": [
        "!javac Hello.java\n",
        "!java Hello"
      ],
      "execution_count": null,
      "outputs": []
    },
    {
      "cell_type": "markdown",
      "metadata": {
        "id": "_3UzfodfejAG"
      },
      "source": [
        "#Summery 0\n",
        "\n",
        "Replacing **println** with **Println**.\n",
        "\n",
        "I recived the following error:\n",
        "```\n",
        "Hello.java:8: error: cannot find symbol\n",
        "        System.out.Println(\"Hello, World!\");\n",
        "                   ^\n",
        "```\n",
        "Cannot find symbol is not very descriptive (at least to me) but it did have a little carrot (^) under the capitol P in Println, which would have helped me find the problem."
      ]
    },
    {
      "cell_type": "markdown",
      "metadata": {
        "id": "OvPO6Jlzhv0f"
      },
      "source": [
        "#Summery 1"
      ]
    },
    {
      "cell_type": "markdown",
      "metadata": {
        "id": "exgRzG8nhzR-"
      },
      "source": [
        "#Summery 2"
      ]
    },
    {
      "cell_type": "markdown",
      "metadata": {
        "id": "SWcbLE53h2_d"
      },
      "source": [
        "#Summery 3"
      ]
    },
    {
      "cell_type": "markdown",
      "metadata": {
        "id": "G7X-oMRoh52H"
      },
      "source": [
        "#Summery 4"
      ]
    },
    {
      "cell_type": "markdown",
      "metadata": {
        "id": "MTwlFTqsfvJ8"
      },
      "source": [
        "#Reminder\n",
        "\n",
        "   * When you're done, save your notebook (File > Save) and then save a copy of your notebook to your IT-211 GitHub (File > Save to GitHub).\n",
        "   * Send me the link to your file in github to complete this assignment.\n",
        "   * If you get stuck, ask on Slack!"
      ]
    }
  ]
}