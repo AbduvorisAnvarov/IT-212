{
  "nbformat": 4,
  "nbformat_minor": 0,
  "metadata": {
    "colab": {
      "name": "Copy of Week2.ipynb",
      "private_outputs": true,
      "provenance": [],
      "collapsed_sections": [],
      "include_colab_link": true
    },
    "kernelspec": {
      "name": "python3",
      "display_name": "Python 3"
    }
  },
  "cells": [
    {
      "cell_type": "markdown",
      "metadata": {
        "id": "view-in-github",
        "colab_type": "text"
      },
      "source": [
        "<a href=\"https://colab.research.google.com/github/AbduvorisAnvarov/IT-212/blob/main/Copy_of_Week2.ipynb\" target=\"_parent\"><img src=\"https://colab.research.google.com/assets/colab-badge.svg\" alt=\"Open In Colab\"/></a>"
      ]
    },
    {
      "cell_type": "markdown",
      "metadata": {
        "id": "7yiqcKoEDvYr"
      },
      "source": [
        "%%writefile Input.java\n",
        "import java.util.Scanner;\n",
        "\n",
        "// goal: Build a calculator\n",
        "// Add operators:+,-,*,/. exponants (taking the first no. to the power of second no.)\n",
        "// Expectation: input numbers and operators and have them return an answer.\n",
        "\n",
        "public class Input {                          \n",
        "    public static void main(String [] args) {  \n",
        "        Scanner randomScanner = new Scanner(System.in);       // Create a Scanner object\n",
        "\n",
        "        System.out.println(\"enter your first number\");          // scans for the first number and stores it as firstNumber\n",
        "        double firstNumber = randomScanner.nextDouble();\n",
        "\n",
        "        \n",
        "        System.out.println(\"enteroperator (+,-,*,/): \");          // scans for the first number and stores it as firstNumber\n",
        "        double operator = randomScanner.next();\n",
        "\n",
        "        System.out.println(\"enter your second number\");         // scans for the first number and stores it as firstNumber\n",
        "        double secondNumber = randomScanner.nextDouble();\n",
        "        if (operator.equals(\"+\")){\n",
        "            double myAnswer = firstNumber + secondNumber;  \n",
        "            System.out.println(myAnswer);\n",
        "        }\n",
        "        else if (operator.equal(\"-\")){\n",
        "            double myAnswer = firstNumber - secondNumber;\n",
        "            system.out.println(myAnswer);\n",
        "        }\n",
        "        else if (operator.equals(\"*\")){\n",
        "            double myAnswer = firstNumber * secondNumber;\n",
        "            system.out.println(myAnswer);\n",
        "        }\n",
        "        else if (operator.equals(\"/\")){\n",
        "            double myAnswer = firstNumber / secondNumber;\n",
        "            system.out.println(myAnswer);\n",
        "        }\n",
        "        else if (operator.equals(\"^\")){\n",
        "            double myAnswer = math.pow(firstNumber,secondNumber);\n",
        "            system.out.println(myAnswer);\n",
        "        }\n",
        "        else{\n",
        "            system.out.println(\"Error with your Input please try again.\");\n",
        "        }\n",
        "        // double myAnswer = firstNumber + secondNumber;             //Adds those number together and stores the answe as myAnswer\n",
        "        // double myAnswer2 = firstNumber - secondNumber;\n",
        "        // double myAnswer3 = firstNumber * secondNumber;\n",
        "        // double myAnswer4 = firstNumber / secondNumber;\n",
        "        // double myAnswer5 = Math.pow(firstNumber,secondNumber);\n",
        "        \n",
        "\n",
        "        //System.out.println(\"My first number is \" + firstNumber + \".\\n My second number is \"+ secondNumber +\".\\n the sum is\"+\n",
        "                           myAnswer+\".\\nSubtraction: \" + myAnswer2 + \".\\nMultiplication: \"+ myAnswer3 + \"\\nDivision\" \n",
        "                           + myAnswer4 + \"\\nExponant \" + myAnswer5+\".\");   \n",
        "  }\n",
        "}"
      ]
    },
    {
      "cell_type": "code",
      "metadata": {
        "id": "oWH965PZFJLQ"
      },
      "source": [
        "!javac Input.java\r\n",
        "!echo -e \"2.0\\n+\\n3.0\" > test\r\n",
        "!java Input < test"
      ],
      "execution_count": null,
      "outputs": []
    },
    {
      "cell_type": "code",
      "metadata": {
        "id": "C1iwTduXEVFm"
      },
      "source": [
        "%%writefile MyNotes.java\n",
        "public class MyNotes {\n",
        "    public static void main (String[] args) {\n",
        "        System.out.println (\"My notes have working code in them!!!\");\n",
        "    }\n",
        "}"
      ],
      "execution_count": null,
      "outputs": []
    },
    {
      "cell_type": "code",
      "metadata": {
        "id": "jRzZxWlTEgN7"
      },
      "source": [
        "!javac MyNotes.java\n",
        "!java MyNotes"
      ],
      "execution_count": null,
      "outputs": []
    },
    {
      "cell_type": "markdown",
      "metadata": {
        "id": "CER-3tJ3Dotl"
      },
      "source": [
        "You only need to run the code below if you want to use Java 12. You won't need the special new properties of Java 12 for most of the class, but be aware that our GitHub Classroom tests run on Java 12."
      ]
    },
    {
      "cell_type": "code",
      "metadata": {
        "id": "jT9yfcqCDeC5"
      },
      "source": [
        "!sudo add-apt-repository ppa:openjdk-r/ppa -y\n",
        "!sudo apt-get update -y -q\n",
        "!sudo apt-get install openjdk-12-jre-headless -y -q\n",
        "!echo \"0\" | sudo update-alternatives --config java\n",
        "!java -version"
      ],
      "execution_count": null,
      "outputs": []
    }
  ]
}