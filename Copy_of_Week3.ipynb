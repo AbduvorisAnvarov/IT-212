{
  "nbformat": 4,
  "nbformat_minor": 0,
  "metadata": {
    "colab": {
      "name": "Copy of Week3.ipynb",
      "private_outputs": true,
      "provenance": [],
      "collapsed_sections": [],
      "include_colab_link": true
    },
    "kernelspec": {
      "name": "python3",
      "display_name": "Python 3"
    }
  },
  "cells": [
    {
      "cell_type": "markdown",
      "metadata": {
        "id": "view-in-github",
        "colab_type": "text"
      },
      "source": [
        "<a href=\"https://colab.research.google.com/github/AbduvorisAnvarov/IT-212/blob/main/Copy_of_Week3.ipynb\" target=\"_parent\"><img src=\"https://colab.research.google.com/assets/colab-badge.svg\" alt=\"Open In Colab\"/></a>"
      ]
    },
    {
      "cell_type": "code",
      "metadata": {
        "id": "ifVXync0SaxD"
      },
      "source": [
        "%%writefile Input.java\r\n",
        "import java.util.Scanner;\r\n",
        "\r\n",
        "// Goal: Calculator\r\n",
        "// Add Operators: +, -, *, /, exponents (taking the first number ot the power of the 2nd number)\r\n",
        "// Expectations: input numbers and operators and have them return an answer. \r\n",
        "// we'll be using if statments and eventually switch to solve the interface problem\r\n",
        "\r\n",
        "public class Input {                          \r\n",
        "    public static void main(String [] args) {  \r\n",
        "        Scanner randomScanner = new Scanner(System.in);       // Create a Scanner object\r\n",
        "\r\n",
        "        System.out.println(\"Enter your first number:\");       // Scans for first number and stores it as firstNumber.\r\n",
        "        double firstNumber = randomScanner.nextDouble();\r\n",
        "\r\n",
        "        System.out.println(\"Enter operator(+,-,*,/,):\");\r\n",
        "        String operator = randomScanner.next();\r\n",
        "\r\n",
        "        System.out.println(\"Enter your second number:\");      // Scans for second number and stores it as secondNumber.\r\n",
        "        double secondNumber = randomScanner.nextDouble();\r\n",
        "        randomScanner.close();\r\n",
        "\r\n",
        "        if (operator.equals(\"+\")) {\r\n",
        "            double myAnswer = firstNumber + secondNumber;\r\n",
        "            System.out.println(myAnswer);\r\n",
        "        } else if (operator.equals(\"-\")) {\r\n",
        "          double myAnswer = firstNumber - secondNumber;\r\n",
        "          System.out.println(myAnswer);\r\n",
        "        } else if (operator.equals(\"*\")) {\r\n",
        "          double myAnswer = firstNumber * secondNumber;\r\n",
        "          System.out.println(myAnswer);\r\n",
        "        } else if (operator.equals(\"/\")) {\r\n",
        "          double myAnswer = firstNumber / secondNumber;\r\n",
        "          System.out.println(myAnswer);     \r\n",
        "        } else if (operator.equals(\"^\")) {\r\n",
        "          double myAnswer = Math.pow(firstNumber,secondNumber);\r\n",
        "          System.out.println(myAnswer); \r\n",
        "        } else {\r\n",
        "            System.out.println(\"We don't have that functionality yet\");\r\n",
        "        }\r\n",
        "\r\n",
        "        //double myAnswer  = firstNumber + secondNumber;        // Adds those numbers together and stores the answer as myAnswer.\r\n",
        "        //double myAnswer2 = firstNumber - secondNumber;        // Subract secondNumber from firstNumber \r\n",
        "        //double myAnswer3 = firstNumber * secondNumber;        // Multiplies firstNumber by secondNumber\r\n",
        "        //double myAnswer4 = firstNumber / secondNumber;        // Divides firstNumber by secondNumber\r\n",
        "       //double myAnswer5 = Math.pow(firstNumber, secondNumber);  \r\n",
        "       \r\n",
        "        //System.out.println(\"My first number is \" + firstNumber + \".\\nMy second number is \" + secondNumber + \".\\nAddition: \" + \r\n",
        "                           //myAnswer + \".\\nSubtraction: \" + myAnswer2 + \".\\nMultiplication: \" + myAnswer3 + \".\\nDivision: \" + \r\n",
        "                           //myAnswer4 + \".\\nExponent: \" + myAnswer5 + \".\");\r\n",
        "  }\r\n",
        "} "
      ],
      "execution_count": null,
      "outputs": []
    },
    {
      "cell_type": "code",
      "metadata": {
        "id": "jRzZxWlTEgN7"
      },
      "source": [
        "!javac Input.java\n",
        "!echo -e \"5.0\\n+\\n30.0\" > test\n",
        "!java Input < test"
      ],
      "execution_count": null,
      "outputs": []
    },
    {
      "cell_type": "markdown",
      "metadata": {
        "id": "CER-3tJ3Dotl"
      },
      "source": [
        "You only need to run the code below if you want to use Java 12. You won't need the special new properties of Java 12 for most of the class, but be aware that our GitHub Classroom tests run on Java 12."
      ]
    }
  ]
}