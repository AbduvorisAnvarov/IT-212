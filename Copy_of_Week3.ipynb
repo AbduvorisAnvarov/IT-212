{
  "nbformat": 4,
  "nbformat_minor": 0,
  "metadata": {
    "colab": {
      "name": "Copy of Week3.ipynb",
      "private_outputs": true,
      "provenance": [],
      "collapsed_sections": [],
      "include_colab_link": true
    },
    "kernelspec": {
      "name": "python3",
      "display_name": "Python 3"
    }
  },
  "cells": [
    {
      "cell_type": "markdown",
      "metadata": {
        "id": "view-in-github",
        "colab_type": "text"
      },
      "source": [
        "<a href=\"https://colab.research.google.com/github/AbduvorisAnvarov/IT-212/blob/main/Copy_of_Week3.ipynb\" target=\"_parent\"><img src=\"https://colab.research.google.com/assets/colab-badge.svg\" alt=\"Open In Colab\"/></a>"
      ]
    },
    {
      "cell_type": "markdown",
      "metadata": {
        "id": "U4zanCbeoKjI"
      },
      "source": [
        "Tuesday - Build a Calculator with IF and IF else statements\n"
      ]
    },
    {
      "cell_type": "code",
      "metadata": {
        "id": "ifVXync0SaxD"
      },
      "source": [
        "%%writefile Input.java\r\n",
        "import java.util.Scanner;\r\n",
        "\r\n",
        "// Goal: Calculator\r\n",
        "// Add Operators: +, -, *, /, exponents (taking the first number ot the power of the 2nd number)\r\n",
        "// Expectations: input numbers and operators and have them return an answer. \r\n",
        "// we'll be using if statments and eventually switch to solve the interface problem\r\n",
        "\r\n",
        "public class Input {                          \r\n",
        "    public static void main(String [] args) {  \r\n",
        "        Scanner randomScanner = new Scanner(System.in);       // Create a Scanner object\r\n",
        "\r\n",
        "        System.out.println(\"Enter your first number:\");       // Scans for first number and stores it as firstNumber.\r\n",
        "        double firstNumber = randomScanner.nextDouble();\r\n",
        "\r\n",
        "        System.out.println(\"Enter operator(+,-,*,/,):\");\r\n",
        "        String operator = randomScanner.next();\r\n",
        "\r\n",
        "        System.out.println(\"Enter your second number:\");      // Scans for second number and stores it as secondNumber.\r\n",
        "        double secondNumber = randomScanner.nextDouble();\r\n",
        "        randomScanner.close();\r\n",
        "\r\n",
        "        if (operator.equals(\"+\")) {\r\n",
        "            double myAnswer = firstNumber + secondNumber;\r\n",
        "            System.out.println(myAnswer);\r\n",
        "        } else if (operator.equals(\"-\")) {\r\n",
        "          double myAnswer = firstNumber - secondNumber;\r\n",
        "          System.out.println(myAnswer);\r\n",
        "        } else if (operator.equals(\"*\")) {\r\n",
        "          double myAnswer = firstNumber * secondNumber;\r\n",
        "          System.out.println(myAnswer);\r\n",
        "        } else if (operator.equals(\"/\")) {\r\n",
        "          double myAnswer = firstNumber / secondNumber;\r\n",
        "          System.out.println(myAnswer);     \r\n",
        "        } else if (operator.equals(\"^\")) {\r\n",
        "          double myAnswer = Math.pow(firstNumber,secondNumber);\r\n",
        "          System.out.println(myAnswer); \r\n",
        "        } else {\r\n",
        "            System.out.println(\"We don't have that functionality yet\");\r\n",
        "        }\r\n",
        "\r\n",
        "        //double myAnswer  = firstNumber + secondNumber;        // Adds those numbers together and stores the answer as myAnswer.\r\n",
        "        //double myAnswer2 = firstNumber - secondNumber;        // Subract secondNumber from firstNumber \r\n",
        "        //double myAnswer3 = firstNumber * secondNumber;        // Multiplies firstNumber by secondNumber\r\n",
        "        //double myAnswer4 = firstNumber / secondNumber;        // Divides firstNumber by secondNumber\r\n",
        "       //double myAnswer5 = Math.pow(firstNumber, secondNumber);  \r\n",
        "       \r\n",
        "        //System.out.println(\"My first number is \" + firstNumber + \".\\nMy second number is \" + secondNumber + \".\\nAddition: \" + \r\n",
        "                           //myAnswer + \".\\nSubtraction: \" + myAnswer2 + \".\\nMultiplication: \" + myAnswer3 + \".\\nDivision: \" + \r\n",
        "                           //myAnswer4 + \".\\nExponent: \" + myAnswer5 + \".\");\r\n",
        "  }\r\n",
        "} "
      ],
      "execution_count": null,
      "outputs": []
    },
    {
      "cell_type": "code",
      "metadata": {
        "id": "jRzZxWlTEgN7"
      },
      "source": [
        "!javac Input.java\n",
        "!echo -e \"5.0\\n+\\n30.0\" > test\n",
        "!java Input < test"
      ],
      "execution_count": null,
      "outputs": []
    },
    {
      "cell_type": "markdown",
      "metadata": {
        "id": "WKVwziQKpFJr"
      },
      "source": [
        "Wednesday - Build a Caluclator using Switch"
      ]
    },
    {
      "cell_type": "code",
      "metadata": {
        "id": "jT9yfcqCDeC5"
      },
      "source": [
        "%%writefile Input.java\n",
        "import java.util.Scanner;\n",
        "\n",
        "// Goal: Build a Calculator\n",
        "//Expectation: punch in numbers instead of being prompted (maybe promoted once, but not twice)\n",
        "//Expectation: only reults of operator punched in\n",
        "// ? Scientific notation translator: 9.313225746154785E20 931322574615478500000 (example)\n",
        "//Figure out how to enter something like: 2 + 4 and get just 6 as the output.\n",
        "//If/then & Switch\n",
        "\n",
        "public class Input {                          \n",
        "    public static void main(String [] args) {  \n",
        "        Scanner randomScanner = new Scanner(System.in);       // Create a Scanner object\n",
        "\n",
        "        System.out.println(\"Enter your first number:\");       // Scans for first number and stores it as firstNumber.\n",
        "        double firstNumber = randomScanner.nextDouble();\n",
        "\n",
        "        System.out.println(\"Enter your operator:\");\n",
        "        String operator = randomScanner.next();\n",
        "\n",
        "        System.out.println(\"Enter your second number:\");      // Scans for second number and stores it as secondNumber.\n",
        "        double secondNumber = randomScanner.nextDouble();\n",
        "\n",
        "      \n",
        "\n",
        "        switch (operator) {\n",
        "            case \"+\":\n",
        "              double myAnswer = firstNumber + secondNumber;\n",
        "              System.out.println(myAnswer);\n",
        "              break;\n",
        "            case \"-\":\n",
        "              double myAnswer2 = firstNumber - secondNumber;\n",
        "              System.out.println(myAnswer2);\n",
        "              break;\n",
        "            case \"*\":\n",
        "              double myAnswer3 = firstNumber * secondNumber;\n",
        "              System.out.println(myAnswer3);\n",
        "            break;\n",
        "            case \"/\":\n",
        "              double myAnswer4 = firstNumber / secondNumber;\n",
        "              System.out.println(myAnswer4);\n",
        "            break;\n",
        "            case \"^\":\n",
        "              double myAnswer5 = Math.pow(firstNumber, secondNumber);\n",
        "              System.out.println(myAnswer5);\n",
        "            break;\n",
        "        }\n",
        "        //double myAnswer = firstNumber + secondNumber;             // Adds those numbers together and stores the answer as myAnswer.\n",
        "        //double myAnswer2 = firstNumber - secondNumber;            //Subtracts second number from first\n",
        "        //double myAnswer3 = firstNumber * secondNumber;            //Multiplies first number by second\n",
        "        //double myAnswer4 = firstNumber / secondNumber;            //Divides first number by second number\n",
        "        //double myAnswer5 = Math.pow(firstNumber, secondNumber);   //Raise the first number to the power of the second number\n",
        "\n",
        "       \n",
        "        //System.out.println(\"My first number is \" + firstNumber + \".\\nMy second number is \" + secondNumber + \".\\nAddition: \" + myAnswer + \".\\nSubtraction: \" + myAnswer2 + \".\\nMultiplication: \" + myAnswer3 + \".\\nDivision: \" + myAnswer4 + \". \\nExponent: \" + myAnswer5 + \".\");\n",
        "\n",
        "\n",
        "    }\n",
        "}"
      ],
      "execution_count": null,
      "outputs": []
    },
    {
      "cell_type": "markdown",
      "metadata": {
        "id": "qc20dAGFpzCp"
      },
      "source": [
        "Thursday - Detecting Ranges Numbers"
      ]
    },
    {
      "cell_type": "code",
      "metadata": {
        "id": "wJc59ndUp3Xq"
      },
      "source": [
        "%%writefile DetectingRanges.java\n",
        "import java.util.Random;\n",
        "\n",
        "public class DetectingRanges{\n",
        "    public static void main(String [] args){\n",
        "        \n",
        "        Random rand = new Random();\n",
        "        int max = 10;\n",
        "        int min = 1;\n",
        "      \n",
        "        int x = rand.nextInt(max - min + 1) + min;\n",
        "        \n",
        "        if (x > 0 && x < 11) {\n",
        "                System.out.println(\"We got a match! \" + x);\n",
        "        } else {\n",
        "                System.out.println(\"Please enter a number between 1 and 10 \" + x);\n",
        "        }\n",
        "    }\n",
        "}\n"
      ],
      "execution_count": null,
      "outputs": []
    },
    {
      "cell_type": "code",
      "metadata": {
        "id": "Aj2hnVI4p7jC"
      },
      "source": [
        "!javac DetectingRanges.java\n",
        "!java DetectingRanges"
      ],
      "execution_count": null,
      "outputs": []
    },
    {
      "cell_type": "markdown",
      "metadata": {
        "id": "CER-3tJ3Dotl"
      },
      "source": [
        "You only need to run the code below if you want to use Java 12. You won't need the special new properties of Java 12 for most of the class, but be aware that our GitHub Classroom tests run on Java 12."
      ]
    },
    {
      "cell_type": "code",
      "metadata": {
        "id": "XYY2JAZtqpMo"
      },
      "source": [
        "!sudo add-apt-repository ppa:openjdk-r/ppa -y\n",
        "!sudo apt-get update -y -q\n",
        "!sudo apt-get install openjdk-12-jre-headless -y -q\n",
        "!echo \"0\" | sudo update-alternatives --config java\n",
        "!java -version"
      ],
      "execution_count": null,
      "outputs": []
    }
  ]
}