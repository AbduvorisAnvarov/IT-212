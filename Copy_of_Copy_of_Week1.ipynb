{
  "nbformat": 4,
  "nbformat_minor": 0,
  "metadata": {
    "colab": {
      "name": "Copy of Copy of Week1.ipynb",
      "private_outputs": true,
      "provenance": [],
      "collapsed_sections": [],
      "include_colab_link": true
    },
    "kernelspec": {
      "name": "python3",
      "display_name": "Python 3"
    }
  },
  "cells": [
    {
      "cell_type": "markdown",
      "metadata": {
        "id": "view-in-github",
        "colab_type": "text"
      },
      "source": [
        "<a href=\"https://colab.research.google.com/github/AbduvorisAnvarov/IT-212/blob/main/Copy_of_Copy_of_Week1.ipynb\" target=\"_parent\"><img src=\"https://colab.research.google.com/assets/colab-badge.svg\" alt=\"Open In Colab\"/></a>"
      ]
    },
    {
      "cell_type": "markdown",
      "metadata": {
        "id": "7yiqcKoEDvYr"
      },
      "source": [
        "Week 1\n",
        "This is a place for your notes and code examples.  Here's a demo, which you should feel free to delete:\n",
        "<br>\n",
        "<br>\n",
        "<br>"
      ]
    },
    {
      "cell_type": "code",
      "metadata": {
        "id": "C1iwTduXEVFm"
      },
      "source": [
        "%%writefile MyNotes.java\n",
        "public class MyNotes {\n",
        "    public static void main (String[] args) {\n",
        "        System.out.println (\"My notes have working code in them!!!\");\n",
        "    }\n",
        "}"
      ],
      "execution_count": null,
      "outputs": []
    },
    {
      "cell_type": "code",
      "metadata": {
        "id": "jRzZxWlTEgN7"
      },
      "source": [
        "!javac MyNotes.java\n",
        "!java MyNotes"
      ],
      "execution_count": null,
      "outputs": []
    },
    {
      "cell_type": "markdown",
      "metadata": {
        "id": "CER-3tJ3Dotl"
      },
      "source": [
        "You only need to run the code below if you want to use Java 12. You won't need the special new properties of Java 12 for most of the class, but be aware that our GitHub Classroom tests run on Java 12."
      ]
    },
    {
      "cell_type": "code",
      "metadata": {
        "id": "jT9yfcqCDeC5"
      },
      "source": [
        "%%writefile Example.java\n",
        "\n",
        "public class Example { // The name of the class is example. What does it mean that it's public?\n",
        " - a pluc class is what you can use to call upon that document like an ID in html and Css once you sign an ID you can call it at anytime in your code. this is here is what Javac will use to find the file.\n",
        "\n",
        "  public static void main(String [] args) { // Here's our main statement. Again, it is public, what does that mean? What about static & void? What's with the String [] args?\n",
        "      -public static is what tells the java machine that this is a java code and it need to run it as so it call on that call when you got compl it.\n",
        "      static => tells the computer that this is java code and that it need to change turn it inot zero and one then send the human eye an understand able code.\n",
        "      void this is just saying return something to me.\n",
        "      main is the main jsut call upon a method.\n",
        "    String name; // We declare the variable name as a string\n",
        "         string declaretion is just when you declare a veriable you can do it with different type of string.\n",
        "    name = \"nicole\"; // We assign a name to it\n",
        "\n",
        "    System.out.println(\"My name is \" + name); // We print \"My name is \" (note the space between the quotes and the is) and then add the var. What does this do?\n",
        "  } this is so that there will be a space between  your code when it printed out by javac because when javac will see the + wit jout a space it will just connect it.  if the space was not there you will havw my name isnicole instaad of the my name is nichole.\n",
        "\n",
        "}"
      ],
      "execution_count": null,
      "outputs": []
    }
  ]
}